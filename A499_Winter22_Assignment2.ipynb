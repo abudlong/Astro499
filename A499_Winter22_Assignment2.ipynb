{
 "cells": [
  {
   "cell_type": "markdown",
   "metadata": {},
   "source": [
    "# DCR Research - Assingment 2\n",
    "Astronomy 499: (Winter 2022)"
   ]
  },
  {
   "cell_type": "code",
   "execution_count": 1,
   "metadata": {},
   "outputs": [],
   "source": [
    "import numpy as np\n",
    "import scipy.constants as const\n",
    "import matplotlib\n",
    "import matplotlib.pyplot as plt\n",
    "from astropy import units as u\n",
    "from astropy.units import cds\n",
    "cds.enable()\n",
    "import pandas as pd"
   ]
  },
  {
   "cell_type": "markdown",
   "metadata": {},
   "source": [
    "## From Assignment 1"
   ]
  },
  {
   "cell_type": "code",
   "execution_count": 2,
   "metadata": {},
   "outputs": [],
   "source": [
    "latitude = -30.24463 * u.deg\n",
    "longitude = -70.74942 * u.deg\n",
    "altitude = 2647 * u.m\n",
    "p0 = 101325 * u.Pa # sea level air presssure\n",
    "g = const.g * (u.m/u.s**2)\n",
    "R0 = 8.31447 * u.J/(u.mol*u.K) # gas constant\n",
    "T0 = 19. * u.deg_C # typical sea level temperature\n",
    "lapseRate = -6.5 * (u.deg_C/u.km) # typical rate of change of temperature with altitude\n",
    "M = 0.0289644 * (u.kg/u.mol) # molar mass of dry air\n",
    "humidity = 40. # typical humidity at many ovservatory sites"
   ]
  },
  {
   "cell_type": "code",
   "execution_count": 3,
   "metadata": {},
   "outputs": [],
   "source": [
    "temperature = T0 + (lapseRate * altitude)\n",
    "temperatureK = temperature.to(u.K, equivalencies = u.temperature())\n",
    "\n",
    "pressure = (p0 * np.exp((-g * M * altitude) / (R0 * temperatureK))).to(u.Pa)"
   ]
  },
  {
   "cell_type": "code",
   "execution_count": 4,
   "metadata": {},
   "outputs": [],
   "source": [
    "# calculating the water-vapor pressure (mm)\n",
    "def power_vapor_pressure(temp, RH):\n",
    "    t = temp.value\n",
    "    x = np.log(RH/100)\n",
    "    tdC_numerator = (((t + 238.3)*x) + (17.2694 * t))\n",
    "    tdC_demoninator = ((t + 238.3) * (17.2694 - x)) - (17.2694 * t)\n",
    "    tdC = (238.3 * (tdC_numerator/tdC_demoninator)) * u.deg_C\n",
    "    t_dewpoint_C = tdC.value\n",
    "    pressure = (4.50874 + (0.341724 * t_dewpoint_C) + (0.0106778 * t_dewpoint_C**2) + (0.184889e-3 * t_dewpoint_C**3) + (0.238294e-5 * t_dewpoint_C**4) + (0.203447e-7 * t_dewpoint_C**5)) * u.cds.mmHg\n",
    "    return pressure\n",
    "\n",
    "p_w = (power_vapor_pressure(temperature, humidity)).to(u.cds.mbar)\n",
    "p_s = pressure.to(u.cds.mbar)\n",
    "zin = 30 * u.deg"
   ]
  },
  {
   "cell_type": "code",
   "execution_count": 5,
   "metadata": {},
   "outputs": [],
   "source": [
    "def gammafunction(wavelength, Ps_in, Tinitial, Pw_in):\n",
    "    T = Tinitial.to(u.K, equivalencies = u.temperature()).value\n",
    "    \n",
    "    Ps = 1.333224 * (Ps_in.to(u.Pa).value - Pw_in.to(u.Pa).value)\n",
    "    Pw = 1.333224 * Pw_in.to(u.Pa).value\n",
    "    sigma = 1/wavelength.to(u.um).value\n",
    "    \n",
    "    Ds = (1 + (Ps * (57.90e-8 - (9.3250e-4/T) + (0.25844/T**2)))) * (Ps/T)\n",
    "    Dw = (1 + Pw * (1 + 3.7e-4 * Pw) * (-2.37321e-3 + ((2.23366/T)-(710.792/T**2) + (7.75141e4/T**3)))) * (Pw/T)\n",
    "    term_one = (2371.34 + (683939.7/(130 - sigma**2)) + (4547.3/(38.9 - sigma**2))) * Ds\n",
    "    term_two = ((6487.31 + (58.058 * sigma**2) - (0.71150 * sigma**4) + (0.08851 * sigma**6))) * Dw\n",
    "    # n = ((term_one + term_two) / (1e8)) ORIGINAL\n",
    "    n = 1 + ((term_one + term_two) / (1e8))\n",
    "    return n\n",
    "\n",
    "def calc_beta(tin):\n",
    "    t = tin.value\n",
    "    beta = 0.001254 * ((273.15 + t)/273.15)\n",
    "    return beta\n",
    "\n",
    "def calc_kappa(phi_degrees, height): # 10\n",
    "    phi = phi_degrees.to(u.rad).value\n",
    "    h = height.value\n",
    "    kappa = 1 + (0.005302 * (np.sin(phi)**2)) - (0.00000583 * (np.sin(2 * phi)**2)) - (0.000000315 * h)\n",
    "    return kappa\n",
    "    \n",
    "# Atmospheric refraction\n",
    "def atm_refraction(wavelength, Ps_in, Tinitial, Pw_in, phi, h, z0):\n",
    "    gamma = gammafunction(wavelength, Ps_in, Tinitial, Pw_in)\n",
    "    beta = calc_beta(Tinitial)\n",
    "    kappa = calc_kappa(phi , h)\n",
    "    \n",
    "    refraction = (kappa * gamma * (1 - beta) * np.tan(z0.to(u.rad))) - (kappa * gamma * (beta - (gamma / 2)) * (np.tan(z0.to(u.rad))**3))\n",
    "    \n",
    "    return refraction"
   ]
  },
  {
   "cell_type": "code",
   "execution_count": 6,
   "metadata": {},
   "outputs": [],
   "source": [
    "rad2arcsec = (206265 * u.arcsec) # conversion between radians and arcseconds"
   ]
  },
  {
   "cell_type": "code",
   "execution_count": 7,
   "metadata": {},
   "outputs": [],
   "source": [
    "# Import Data\n",
    "\n",
    "# g-band\n",
    "gband = pd.read_csv('total_g.dat', delimiter = \" \", comment = \"#\", header=None, skipinitialspace = True)\n",
    "gband_wavelength = np.array(gband[0]) * u.nm\n",
    "gband_throughput = np.array(gband[1])\n",
    "\n",
    "# i-band\n",
    "iband = pd.read_csv('total_i.dat', delimiter = \" \", comment = \"#\", header=None, skipinitialspace = True)\n",
    "iband_wavelength = np.array(iband[0]) * u.nm\n",
    "iband_throughput = np.array(iband[1])\n",
    "\n",
    "# General\n",
    "column_names = ['Wave', 'FluxD', 'e_FluxD', 'None1', 'None2', 'None3', 'None4', 'None5', 'None6', 'None7', 'None8']\n",
    "simulatedquasarspectrum = pd.read_csv('Vanden_Berk_quasars.txt', delimiter = \" \", header=None, skipinitialspace = True, names = column_names)\n",
    "subsection = simulatedquasarspectrum[23:]\n",
    "subsection = simulatedquasarspectrum.apply(pd.to_numeric, errors='coerce')\n",
    "\n",
    "data = subsection[['Wave', 'FluxD', 'e_FluxD']][23:]"
   ]
  },
  {
   "cell_type": "code",
   "execution_count": 8,
   "metadata": {},
   "outputs": [],
   "source": [
    "# Wavelength\n",
    "wavelength_or = np.array(subsection['Wave']) * u.Angstrom\n",
    "wavelength_nm = (wavelength_or[23:]).to(u.nm)\n",
    "\n",
    "# Relative Flux Density\n",
    "relative_fluxdensity = subsection['FluxD'][23:]"
   ]
  },
  {
   "cell_type": "code",
   "execution_count": 9,
   "metadata": {},
   "outputs": [],
   "source": [
    "# Defining Redshift Function\n",
    "def redshift(z, spectrum_wavelength):\n",
    "    redshiftspectrum = (1 + z) * spectrum_wavelength\n",
    "    return redshiftspectrum\n",
    "\n",
    "# Redshifts\n",
    "spectra_obs = [wavelength_nm, redshift(1.0, wavelength_nm), redshift(1.5, wavelength_nm), redshift(2.0, wavelength_nm), redshift(2.5, wavelength_nm)]\n"
   ]
  },
  {
   "cell_type": "code",
   "execution_count": 10,
   "metadata": {},
   "outputs": [],
   "source": [
    "# Calculate the effective wavelength\n",
    "\n",
    "gWeightedWavelength = np.average(gband_wavelength[0:7755], weights = gband_throughput[0:7755])\n",
    "iWeightedWavelength = np.average(iband_wavelength[0:7755], weights = iband_throughput[0:7755])\n"
   ]
  },
  {
   "cell_type": "markdown",
   "metadata": {},
   "source": [
    "## Part 1: Basic Point Spread Function (PSF) Modeling"
   ]
  },
  {
   "cell_type": "markdown",
   "metadata": {},
   "source": [
    "### Part 1a \n",
    "\n",
    "Recall the 2D gaussian modeling from last quarter. In a 32X32 pixel numpy array, plot a 2D gaussian with a Full Width Half Maximum (FWHM) of 0.8 arcseconds, using 0.26 arcseconds per pixel. The gaussian should be centered on pixel (16, 16). Verify the result with a 1D plot of the values along the y-axis through the center of the gaussian."
   ]
  },
  {
   "cell_type": "code",
   "execution_count": 11,
   "metadata": {},
   "outputs": [
    {
     "data": {
      "image/png": "[encoded data removed]",
      "text/plain": [
       "<Figure size 576x1728 with 1 Axes>"
      ]
     },
     "metadata": {},
     "output_type": "display_data"
    }
   ],
   "source": [
    "# Convert from fwhm to sigma\n",
    "fwhm_conversion = 2 * np.sqrt(2 * np.log(2))\n",
    "\n",
    "# Creating 2D Gaussian Functions\n",
    "def gaussian2d(x, y, xcenter = 16, ycenter = 16, sigmax = (0.8/0.26)/fwhm_conversion, sigmay = (0.8/0.26)/fwhm_conversion):\n",
    "    diffx = x - xcenter\n",
    "    diffy = y - ycenter\n",
    "    gaussian = np.exp(-((diffx**2/(2*sigmax**2))+(diffy**2/(2*sigmay**2))))\n",
    "    return gaussian\n",
    "\n",
    "# Defining X, Y & Gaussian Values\n",
    "x = np.linspace(0, 31, 32)\n",
    "y = np.linspace(0, 31, 32)\n",
    "x, y = np.meshgrid(x, y)\n",
    "gaussian_2d = gaussian2d(x, y)\n",
    "\n",
    "# Plot of Gaussian Distribution\n",
    "plt.style.use('ggplot')\n",
    "fig, ax = plt.subplots(1, 1, figsize = (8, 24))\n",
    "ax.imshow(gaussian_2d)\n",
    "ax.set_title('2D Gaussian Distribution');"
   ]
  },
  {
   "cell_type": "code",
   "execution_count": 12,
   "metadata": {},
   "outputs": [
    {
     "data": {
      "image/png": "[encoded data removed]",
      "text/plain": [
       "<Figure size 432x432 with 1 Axes>"
      ]
     },
     "metadata": {},
     "output_type": "display_data"
    }
   ],
   "source": [
    "# Verify with 1D Plot (slice of numpy array at x = 16)\n",
    "sliced_gaussian = gaussian_2d[:,16] #y, x\n",
    "\n",
    "# Plot\n",
    "fig, ax = plt.subplots(1, 1, figsize = (6, 6))\n",
    "ax.plot(sliced_gaussian, color = 'b')\n",
    "ax.set_title('2D Sliced Gaussian Distribution');"
   ]
  },
  {
   "cell_type": "markdown",
   "metadata": {},
   "source": [
    "### Part 1b \n",
    "\n",
    "Write a function to plot a 2D gaussian at an arbitrary offset from the center. The function should add the new gaussian to an existing image, and should take the FWHM of the gaussian and the flux as keyword parameters."
   ]
  },
  {
   "cell_type": "code",
   "execution_count": 13,
   "metadata": {},
   "outputs": [],
   "source": [
    "def offset_2dgaussian(fwhm, flux, xoffset, yoffset, xcenter, ycenter):\n",
    "    fluxsum = np.sum(flux)\n",
    "    sigmax = fwhm/0.26\n",
    "    sigmay = fwhm/0.26\n",
    "    diffx = x - xcenter + xoffset\n",
    "    diffy = y - ycenter + yoffset\n",
    "    gaussian = np.exp(-((diffx**2/(2*sigmax**2))+(diffy**2/(2*sigmay**2)))) * 1/fluxsum\n",
    "    \n",
    "    return gaussian  "
   ]
  },
  {
   "cell_type": "markdown",
   "metadata": {},
   "source": [
    "## Part 2: Model An Observed Quasar"
   ]
  },
  {
   "cell_type": "markdown",
   "metadata": {},
   "source": [
    "### Part 2a \n",
    "\n",
    "Take the quasar spectrum from 2a and the DCR calculation from 3b of assignment 1. For each wavelength (at 1nm resolution) use your function from 1b above to model the total observed quasar image. Recall that the *differential* shift is relative to the refraction at the effective wavelength of the band. Use 0.26 arcseconds/pixel as the platescale of the image, and assume the shift is purely along the y-axis. Use a quasar at redshift 2.5, the same observing conditions as in assignment 1, and make images for both g- and i-bands."
   ]
  },
  {
   "cell_type": "code",
   "execution_count": 14,
   "metadata": {},
   "outputs": [],
   "source": [
    "# ensure each wavelength passed through has a non-zero value\n",
    "# yoffset - needs to be between -2 to 2\n",
    "\n",
    "def totalImage(band_wavelength, band_throughput, observed_spectra, relative_fluxdensity, WeightedWavelength, p_s, temperature, p_w, latitude, altitude, zin, fwhm, xcenter, ycenter):\n",
    "    image_comp = np.zeros((32, 32)) # float by default\n",
    "    refractionindex_eff = atm_refraction(WeightedWavelength, p_s, temperature, p_w, latitude, altitude, zin)\n",
    "    yoffset_value = []\n",
    "    for w in band_wavelength:\n",
    "        \n",
    "        # calculate flux - 2a\n",
    "        interpolate = np.interp(observed_spectra, band_wavelength, band_throughput)\n",
    "        flux = relative_fluxdensity * interpolate\n",
    "        \n",
    "        # dcr shift - 3b\n",
    "        refraction = atm_refraction(w, p_s, temperature, p_w, latitude, altitude, zin)\n",
    "        yoffset = (refraction - refractionindex_eff) / 0.26 #* rad2arcsec.value/0.26\n",
    "        yoffset_value.append(yoffset)\n",
    "        xoffset = 0/0.26 # shift purely in the y-direction\n",
    "        \n",
    "        # creating gaussian\n",
    "        newgaussian = offset_2dgaussian(fwhm, relative_fluxdensity, xoffset, yoffset, xcenter, ycenter)\n",
    "        image_comp += newgaussian.value\n",
    "\n",
    "    fig, ax = plt.subplots(1, 1, figsize = (6, 6))\n",
    "    im = ax.imshow(image_comp)\n",
    "    fig.colorbar(im, orientation = 'vertical')\n",
    "    ax.set_title('2D Offset Gaussian Distribution');  \n",
    "    \n",
    "    return yoffset_value, image_comp"
   ]
  },
  {
   "cell_type": "code",
   "execution_count": 15,
   "metadata": {},
   "outputs": [
    {
     "data": {
      "image/png": "[encoded data removed]",
      "text/plain": [
       "<Figure size 432x432 with 2 Axes>"
      ]
     },
     "metadata": {},
     "output_type": "display_data"
    }
   ],
   "source": [
    "# G-Band Image\n",
    "gimage, gdistribution = totalImage(gband_wavelength, gband_throughput, spectra_obs[4], relative_fluxdensity, gWeightedWavelength, p_s, temperature, p_w, latitude, altitude, zin, 0.8, 16, 16)\n",
    "\n"
   ]
  },
  {
   "cell_type": "code",
   "execution_count": 16,
   "metadata": {},
   "outputs": [
    {
     "data": {
      "image/png": "[encoded data removed]",
      "text/plain": [
       "<Figure size 432x432 with 1 Axes>"
      ]
     },
     "metadata": {},
     "output_type": "display_data"
    }
   ],
   "source": [
    "fig, ax = plt.subplots(1,1, figsize = (6,6))\n",
    "ax.plot(gband_wavelength, gimage);\n",
    "\n",
    "# something wrong with units or conversion"
   ]
  },
  {
   "cell_type": "code",
   "execution_count": 17,
   "metadata": {},
   "outputs": [
    {
     "data": {
      "text/latex": [
       "$-0.0018234137 \\; \\mathrm{}$"
      ],
      "text/plain": [
       "<Quantity -0.00182341>"
      ]
     },
     "execution_count": 17,
     "metadata": {},
     "output_type": "execute_result"
    }
   ],
   "source": [
    "min(gimage)"
   ]
  },
  {
   "cell_type": "code",
   "execution_count": null,
   "metadata": {},
   "outputs": [],
   "source": [
    "# I-Band Image\n",
    "iimage, idistribution = totalImage(iband_wavelength, iband_throughput, spectra_obs[4], relative_fluxdensity, iWeightedWavelength, p_s, temperature, p_w, latitude, altitude, zin, 0.8, 16, 16)\n"
   ]
  },
  {
   "cell_type": "markdown",
   "metadata": {},
   "source": [
    "### Part 2b \n",
    "\n",
    "As in 1a, verify the results of 2a with 1D plots of the values of the images along the y-axis through the center of the image (this should be aligned with the direction of the DCR shifts from 2a)."
   ]
  },
  {
   "cell_type": "code",
   "execution_count": null,
   "metadata": {},
   "outputs": [],
   "source": [
    "# G-Band 1D plot check\n",
    "sliced_gtotal = gdistribution[:,16] #y, x\n",
    "\n",
    "type(gimage[0])\n",
    "\n",
    "\n",
    "# Plot\n",
    "fig, ax = plt.subplots(1, 1, figsize = (6, 6))\n",
    "ax.plot(sliced_gtotal, color = 'b')\n",
    "ax.set_title('2D Sliced Gaussian Distribution [G-Band]');"
   ]
  },
  {
   "cell_type": "code",
   "execution_count": null,
   "metadata": {},
   "outputs": [],
   "source": [
    "# I-Band 1D plot check\n",
    "sliced_itotal = idistribution[:,16] #y, x\n",
    "\n",
    "# Plot\n",
    "fig, ax = plt.subplots(1, 1, figsize = (6, 6))\n",
    "ax.plot(sliced_itotal, color = 'b')\n",
    "ax.set_title('2D Sliced Gaussian Distribution [I-Band]');"
   ]
  }
 ],
 "metadata": {
  "kernelspec": {
   "display_name": "Python 3",
   "language": "python",
   "name": "python3"
  },
  "language_info": {
   "codemirror_mode": {
    "name": "ipython",
    "version": 3
   },
   "file_extension": ".py",
   "mimetype": "text/x-python",
   "name": "python",
   "nbconvert_exporter": "python",
   "pygments_lexer": "ipython3",
   "version": "3.7.4"
  }
 },
 "nbformat": 4,
 "nbformat_minor": 2
}
