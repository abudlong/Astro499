{
 "cells": [
  {
   "cell_type": "markdown",
   "metadata": {},
   "source": [
    "# DCR Research - Assingment 3\n",
    "Astronomy 499: (Winter 2022)"
   ]
  },
  {
   "cell_type": "code",
   "execution_count": 1,
   "metadata": {},
   "outputs": [],
   "source": [
    "import numpy as np\n",
    "import scipy.constants as const\n",
    "import matplotlib\n",
    "import matplotlib.pyplot as plt\n",
    "from astropy import units as u\n",
    "from astropy.units import cds\n",
    "cds.enable()\n",
    "import pandas as pd"
   ]
  },
  {
   "cell_type": "markdown",
   "metadata": {},
   "source": [
    "## From Previous Assignments "
   ]
  },
  {
   "cell_type": "code",
   "execution_count": 2,
   "metadata": {},
   "outputs": [],
   "source": [
    "latitude = -30.24463 * u.deg\n",
    "longitude = -70.74942 * u.deg\n",
    "altitude = 2647 * u.m\n",
    "p0 = 101325 * u.Pa # sea level air presssure\n",
    "g = const.g * (u.m/u.s**2)\n",
    "R0 = 8.31447 * u.J/(u.mol*u.K) # gas constant\n",
    "T0 = 19. * u.deg_C # typical sea level temperature\n",
    "lapseRate = -6.5 * (u.deg_C/u.km) # typical rate of change of temperature with altitude\n",
    "M = 0.0289644 * (u.kg/u.mol) # molar mass of dry air\n",
    "humidity = 40. # typical humidity at many ovservatory sites"
   ]
  },
  {
   "cell_type": "code",
   "execution_count": 3,
   "metadata": {},
   "outputs": [],
   "source": [
    "temperature = T0 + (lapseRate * altitude)\n",
    "temperatureK = temperature.to(u.K, equivalencies = u.temperature())\n",
    "\n",
    "pressure = (p0 * np.exp((-g * M * altitude) / (R0 * temperatureK))).to(u.Pa)"
   ]
  },
  {
   "cell_type": "code",
   "execution_count": 4,
   "metadata": {},
   "outputs": [],
   "source": [
    "# calculating the water-vapor pressure (mm)\n",
    "def power_vapor_pressure(temp, RH):\n",
    "    t = temp.value\n",
    "    x = np.log(RH/100)\n",
    "    tdC_numerator = (((t + 238.3)*x) + (17.2694 * t))\n",
    "    tdC_demoninator = ((t + 238.3) * (17.2694 - x)) - (17.2694 * t)\n",
    "    tdC = (238.3 * (tdC_numerator/tdC_demoninator)) * u.deg_C\n",
    "    t_dewpoint_C = tdC.value\n",
    "    pressure = (4.50874 + (0.341724 * t_dewpoint_C) + (0.0106778 * t_dewpoint_C**2) + (0.184889e-3 * t_dewpoint_C**3) + (0.238294e-5 * t_dewpoint_C**4) + (0.203447e-7 * t_dewpoint_C**5)) * u.cds.mmHg\n",
    "    return pressure\n",
    "\n",
    "p_w = (power_vapor_pressure(temperature, humidity)).to(u.cds.mbar)\n",
    "p_s = pressure.to(u.cds.mbar)\n",
    "zin = 30 * u.deg"
   ]
  },
  {
   "cell_type": "code",
   "execution_count": 5,
   "metadata": {},
   "outputs": [],
   "source": [
    "# Using Equations: 4, 5, 9, 10, 14, 15, 16, 18, 20, 21 + 2\n",
    "\n",
    "def gammafunction(wavelength, Ps_in, Tinitial, Pw_in):\n",
    "    T = Tinitial.to(u.K, equivalencies = u.temperature()).value\n",
    "    sigma = 1/wavelength.to(u.um).value\n",
    "    \n",
    "    Ps = Ps_in.to(u.cds.mbar).value\n",
    "    Pw = Pw_in.to(u.cds.mbar).value\n",
    "    \n",
    "    Ds = (1 + (Ps * (57.90e-8 - (9.3250e-4/T) + (0.25844/T**2)))) * (Ps/T)\n",
    "    Dw = (1 + (Pw * (1 + 3.7e-4 * Pw) * (-2.37321e-3 + ((2.23366/T)-(710.792/T**2) + (7.75141e4/T**3))))) * (Pw/T)\n",
    "    term_one = (2371.34 + (683939.7/(130 - sigma**2)) + (4547.3/(38.9 - sigma**2))) * Ds\n",
    "    term_two = ((6487.31 + (58.058 * sigma**2) - (0.71150 * sigma**4) + (0.08851 * sigma**6))) * Dw\n",
    "    n = ((term_one + term_two) / (1e8))\n",
    "    return n\n",
    "\n",
    "def calc_beta(tin):\n",
    "    t = tin.value\n",
    "    beta = 0.001254 * ((273.15 + t)/273.15)\n",
    "    return beta\n",
    "\n",
    "def calc_kappa(phi_degrees, height): # 10\n",
    "    phi = phi_degrees.to(u.rad).value\n",
    "    h = height.value\n",
    "    kappa = 1 + (0.005302 * (np.sin(phi)**2)) - (0.00000583 * (np.sin(2 * phi)**2)) - (0.000000315 * h)\n",
    "    return kappa\n",
    "    \n",
    "# Atmospheric refraction\n",
    "def atm_refraction(wavelength, Ps, Tinitial, Pw, phi, h, z0):\n",
    "    gamma = gammafunction(wavelength, Ps, Tinitial, Pw)\n",
    "    beta = calc_beta(Tinitial)\n",
    "    kappa = calc_kappa(phi , h)\n",
    "    \n",
    "    refraction = (kappa * gamma * (1 - beta) * np.tan(z0.to(u.rad))) - (kappa * gamma * (beta - (gamma / 2)) * (np.tan(z0.to(u.rad))**3))\n",
    "    \n",
    "    return refraction\n",
    "    \n",
    "    "
   ]
  },
  {
   "cell_type": "code",
   "execution_count": 6,
   "metadata": {},
   "outputs": [],
   "source": [
    "rad2arcsec = (206265 * u.arcsec) # conversion between radians and arcseconds"
   ]
  },
  {
   "cell_type": "code",
   "execution_count": 7,
   "metadata": {},
   "outputs": [],
   "source": [
    "# Import Data\n",
    "\n",
    "# g-band\n",
    "gband = pd.read_csv('total_g.dat', delimiter = \" \", comment = \"#\", header=None, skipinitialspace = True)\n",
    "gband_wavelength = np.array(gband[0]) * u.nm\n",
    "gband_throughput = np.array(gband[1])\n",
    "\n",
    "# i-band\n",
    "iband = pd.read_csv('total_i.dat', delimiter = \" \", comment = \"#\", header=None, skipinitialspace = True)\n",
    "iband_wavelength = np.array(iband[0]) * u.nm\n",
    "iband_throughput = np.array(iband[1])\n",
    "\n",
    "# General\n",
    "column_names = ['Wave', 'FluxD', 'e_FluxD'] #, 'None1', 'None2', 'None3', 'None4', 'None5', 'None6', 'None7', 'None8']\n",
    "simulatedquasarspectrum = pd.read_csv('Vanden_Berk_quasars.txt', delimiter = \" \", header=None, skipinitialspace = True, names = column_names, skiprows=23)\n",
    "subsection = simulatedquasarspectrum\n",
    "subsection = simulatedquasarspectrum.apply(pd.to_numeric, errors='coerce')\n",
    "\n",
    "data = subsection[['Wave', 'FluxD', 'e_FluxD']]"
   ]
  },
  {
   "cell_type": "code",
   "execution_count": 8,
   "metadata": {},
   "outputs": [],
   "source": [
    "# Wavelength\n",
    "wavelength_or = np.array(subsection['Wave']) * u.Angstrom\n",
    "wavelength_nm = (wavelength_or[23:]).to(u.nm)\n",
    "\n",
    "# Relative Flux Density\n",
    "relative_fluxdensity = subsection['FluxD'][23:]"
   ]
  },
  {
   "cell_type": "code",
   "execution_count": 9,
   "metadata": {},
   "outputs": [],
   "source": [
    "# Defining Redshift Function\n",
    "def redshift(z, spectrum_wavelength):\n",
    "    redshiftspectrum = (1 + z) * spectrum_wavelength\n",
    "    return redshiftspectrum\n",
    "\n",
    "# Redshifts\n",
    "spectra_obs = [wavelength_nm, redshift(1.0, wavelength_nm), redshift(1.5, wavelength_nm), redshift(2.0, wavelength_nm), redshift(2.5, wavelength_nm)]\n",
    "redshifts = [1.0, 1.5, 2.0, 2.5]\n"
   ]
  },
  {
   "cell_type": "code",
   "execution_count": 10,
   "metadata": {},
   "outputs": [],
   "source": [
    "# Calculate the effective wavelength\n",
    "\n",
    "gWeightedWavelength = np.average(gband_wavelength[0:7755], weights = gband_throughput[0:7755])\n",
    "iWeightedWavelength = np.average(iband_wavelength[0:7755], weights = iband_throughput[0:7755])\n"
   ]
  },
  {
   "cell_type": "code",
   "execution_count": 11,
   "metadata": {},
   "outputs": [],
   "source": [
    "# Defining Subbands\n",
    "def subbands(wavelength, throughput, number_bands):\n",
    "    sum_ts = np.sum(throughput)\n",
    "    cum_ts = np.cumsum(throughput)\n",
    "    \n",
    "    bounds = []\n",
    "    for b in range(number_bands - 1):\n",
    "        bound = ((1 + b) / number_bands) * sum_ts\n",
    "        wlgth = np.interp(bound, cum_ts, wavelength)\n",
    "        bounds.append(wlgth)\n",
    "        \n",
    "    return bounds"
   ]
  },
  {
   "cell_type": "markdown",
   "metadata": {},
   "source": [
    "### G-Band"
   ]
  },
  {
   "cell_type": "code",
   "execution_count": 12,
   "metadata": {},
   "outputs": [],
   "source": [
    "# G-Band Subband Boundaries\n",
    "gwavelength_bounds = subbands(gband_wavelength, gband_throughput, 3)\n",
    "gwavelength_bounds\n",
    "\n",
    "throughput_threshold_g = max(gband_throughput)/100\n",
    "\n",
    "# Defining G-Band Subbands\n",
    "subband_g_1 = gband_wavelength.value < gwavelength_bounds[0]\n",
    "subband_g_2 = (gband_wavelength.value > gwavelength_bounds[0]) & (gband_wavelength.value < gwavelength_bounds[1])\n",
    "subband_g_3 = gband_wavelength.value > gwavelength_bounds[1]\n",
    "\n",
    "g1 = gband_wavelength[subband_g_1]\n",
    "g2 = gband_wavelength[subband_g_2]\n",
    "g3 = gband_wavelength[subband_g_3]\n",
    "\n",
    "# Defining G-Band Flux Subbands\n",
    "f1_g = np.sum(gband_throughput[subband_g_1])\n",
    "f2_g = np.sum(gband_throughput[subband_g_2])\n",
    "f3_g = np.sum(gband_throughput[subband_g_3])"
   ]
  },
  {
   "cell_type": "code",
   "execution_count": 13,
   "metadata": {},
   "outputs": [],
   "source": [
    "def subband_wavelengths(band_wavelength, band_throughput, subband_number=3, minwavelength = 100, maxwavelength = 10000):\n",
    "    bounds = subbands(band_wavelength, band_throughput, subband_number)\n",
    "    \n",
    "    effective_wavelengths = []\n",
    "    \n",
    "    for b in range(subband_number):\n",
    "        if b == 0:\n",
    "            lowerbound = minwavelength\n",
    "        else:\n",
    "            lowerbound = bounds[b-1]\n",
    "            \n",
    "        if b == subband_number-1:\n",
    "            upperbound = maxwavelength\n",
    "            \n",
    "        else:\n",
    "            upperbound = bounds[b]\n",
    "        \n",
    "        subband = (band_wavelength.value > lowerbound) & (band_wavelength.value < upperbound) \n",
    "        \n",
    "        effective_wavelength = np.average(band_wavelength[subband], weights = band_throughput[subband])\n",
    "        effective_wavelengths.append(effective_wavelength)\n",
    "        \n",
    "    return effective_wavelengths\n",
    "    \n",
    "    "
   ]
  },
  {
   "cell_type": "markdown",
   "metadata": {},
   "source": [
    "### I-Band"
   ]
  },
  {
   "cell_type": "code",
   "execution_count": 14,
   "metadata": {},
   "outputs": [],
   "source": [
    "# I-Band Subband Boundaries\n",
    "iwavelength_bounds = subbands(iband_wavelength, iband_throughput, 3)\n",
    "iwavelength_bounds\n",
    "\n",
    "throughput_threshold_i = max(iband_throughput)/100\n",
    "\n",
    "# Defining I-Band Subbands\n",
    "subband_i_1 = (iband_wavelength.value < iwavelength_bounds[0]) & (iband_throughput > throughput_threshold_i)\n",
    "subband_i_2 = (iband_wavelength.value > iwavelength_bounds[0]) & (iband_wavelength.value < iwavelength_bounds[1])\n",
    "subband_i_3 = (iband_wavelength.value > iwavelength_bounds[1]) & (iband_throughput > throughput_threshold_i)\n",
    "\n",
    "i1 = iband_wavelength[subband_i_1]\n",
    "i2 = iband_wavelength[subband_i_2]\n",
    "i3 = iband_wavelength[subband_i_3]\n",
    "\n",
    "# Defining I-Band Flux Subbands\n",
    "f1_i = np.sum(iband_throughput[subband_i_1])\n",
    "f2_i = np.sum(iband_throughput[subband_i_2])\n",
    "f3_i = np.sum(iband_throughput[subband_i_3])"
   ]
  },
  {
   "cell_type": "markdown",
   "metadata": {},
   "source": [
    "## Part 1: Measure the Spectrum of Simulated Quasars"
   ]
  },
  {
   "cell_type": "markdown",
   "metadata": {},
   "source": [
    "### Part 1a: Calculate Sub-Bands\n",
    "\n",
    "Take the three sub-bands you calculated in Winter assignment 2b, and calculate the effective wavelength of each (like what you did for the full band in assignment 1, 3b). For your quasars at redshifts 1.0, 1.5, 2.0, and 2.5 and g- and i-bands, plot (with a symbol) the expected flux in each sub-band on top of the high-resolution spectrum. This is very similar to assignment 1, 2b, but with the addition of using the effective wavelength of each sub-band. Normalize the y-axis by bandwidth, so that the high-resolution input spectrum and the coarse sub-band fluxes are comparable. See the attached image for a rough sketch of what this might look like."
   ]
  },
  {
   "cell_type": "code",
   "execution_count": 15,
   "metadata": {},
   "outputs": [
    {
     "name": "stdout",
     "output_type": "stream",
     "text": [
      "The effective wavelength of the LSST g-band is 480.00 nm.\n",
      "The effective wavelength of the LSST i-band is 754.22 nm.\n"
     ]
    }
   ],
   "source": [
    "# Calculate Effective Wavelength of Subbands\n",
    "\n",
    "gWeightedWavelength = np.average(gband_wavelength[0:7755], weights = gband_throughput[0:7755])\n",
    "print(\"The effective wavelength of the LSST g-band is {:.2f}.\".format(gWeightedWavelength))\n",
    "\n",
    "iWeightedWavelength = np.average(iband_wavelength[0:7755], weights = iband_throughput[0:7755])\n",
    "print(\"The effective wavelength of the LSST i-band is {:.2f}.\".format(iWeightedWavelength))"
   ]
  },
  {
   "cell_type": "code",
   "execution_count": 16,
   "metadata": {},
   "outputs": [
    {
     "data": {
      "text/latex": [
       "$480.00049 \\; \\mathrm{nm}$"
      ],
      "text/plain": [
       "<Quantity 480.00048773 nm>"
      ]
     },
     "execution_count": 16,
     "metadata": {},
     "output_type": "execute_result"
    }
   ],
   "source": [
    "gWeightedWavelength"
   ]
  },
  {
   "cell_type": "code",
   "execution_count": 17,
   "metadata": {},
   "outputs": [
    {
     "name": "stdout",
     "output_type": "stream",
     "text": [
      "The effective wavelengths of g-subbands 1, 2, and 3 are: (<Quantity 429.82696496 nm>, <Quantity 480.9518105 nm>, <Quantity 529.08487633 nm>).\n"
     ]
    }
   ],
   "source": [
    "# G-Band\n",
    "g1_effective = np.average(gband_wavelength[subband_g_1], weights = gband_throughput[subband_g_1])\n",
    "g2_effective = np.average(gband_wavelength[subband_g_2], weights = gband_throughput[subband_g_2])\n",
    "g3_effective = np.average(gband_wavelength[subband_g_3], weights = gband_throughput[subband_g_3])\n",
    "\n",
    "\n",
    "g_effective = [g1_effective, g2_effective, g3_effective]\n",
    "\n",
    "print(f\"The effective wavelengths of g-subbands 1, 2, and 3 are: {g1_effective, g2_effective, g3_effective}.\")\n"
   ]
  },
  {
   "cell_type": "code",
   "execution_count": 18,
   "metadata": {},
   "outputs": [
    {
     "data": {
      "text/latex": [
       "$429.82696 \\; \\mathrm{nm}$"
      ],
      "text/plain": [
       "<Quantity 429.82696496 nm>"
      ]
     },
     "execution_count": 18,
     "metadata": {},
     "output_type": "execute_result"
    }
   ],
   "source": [
    "g1_effective"
   ]
  },
  {
   "cell_type": "code",
   "execution_count": 19,
   "metadata": {},
   "outputs": [
    {
     "name": "stdout",
     "output_type": "stream",
     "text": [
      "The effective wavelengths of i-subbands 1, 2, and 3 are : (<Quantity 711.06379058 nm>, <Quantity 753.89535794 nm>, <Quantity 797.67294613 nm>).\n"
     ]
    }
   ],
   "source": [
    "# I-Band\n",
    "i1_effective = np.average(iband_wavelength[subband_i_1], weights = iband_throughput[subband_i_1])\n",
    "i2_effective = np.average(iband_wavelength[subband_i_2], weights = iband_throughput[subband_i_2])\n",
    "i3_effective = np.average(iband_wavelength[subband_i_3], weights = iband_throughput[subband_i_3])\n",
    "\n",
    "print(f\"The effective wavelengths of i-subbands 1, 2, and 3 are : {i1_effective, i2_effective, i3_effective}.\")"
   ]
  },
  {
   "cell_type": "code",
   "execution_count": 20,
   "metadata": {},
   "outputs": [
    {
     "data": {
      "text/plain": [
       "8501"
      ]
     },
     "execution_count": 20,
     "metadata": {},
     "output_type": "execute_result"
    }
   ],
   "source": [
    "len(subband_g_1)"
   ]
  },
  {
   "cell_type": "code",
   "execution_count": 21,
   "metadata": {},
   "outputs": [],
   "source": [
    "# defining f1, 2, 3 in condensed function\n",
    "\n",
    "g_subbands = [subband_g_1, subband_g_2, subband_g_3]\n",
    "i_subbands = [subband_i_1, subband_i_2, subband_i_3]\n",
    "\n",
    "def subbandFlux(wavelength, band_throughput, subbands, throughput_threshold, spectra_obs):\n",
    "    f_values = []\n",
    "    for s in subbands:\n",
    "        #band_tempthroughput = np.zeros_like(band_throughput)\n",
    "        #band_tempthroughput = band_throughput[s]\n",
    "        print(repr(spectra_obs))\n",
    "        print(repr(wavelength))\n",
    "        print(repr(band_throughput))\n",
    "        print(repr(band_throughput[s]))\n",
    "        print(repr(s))\n",
    "        interpolate = np.interp(spectra_obs, wavelength, band_throughput[s])\n",
    "        normalization = np.sum(interpolate > throughput_threshold)\n",
    "        f_itemp = np.sum(interpolate * relative_fluxdensity)/normalization\n",
    "        f_values.append(f_itemp)\n",
    "    return f_values\n",
    "\n",
    "# for g: throughput_threshold_g"
   ]
  },
  {
   "cell_type": "markdown",
   "metadata": {},
   "source": [
    "    gband_tempthroughput = np.zeros_like(gband_throughput)\n",
    "    gband_tempthroughput[subband_g_1] = gband_throughput[subband_g_1]\n",
    "    interpolate = np.interp(s, gband_wavelength[0:7755], gband_tempthroughput[0:7755])\n",
    "    normalization = np.sum(interpolate > throughput_threshold_g)\n",
    "    f1_itempg = np.sum(interpolate * relative_fluxdensity)/normalization\n",
    "    \n",
    "    gband_tempthroughput = np.zeros_like(gband_throughput)\n",
    "    gband_tempthroughput[subband_g_2] = gband_throughput[subband_g_2]\n",
    "    interpolate = np.interp(s, gband_wavelength[0:7755], gband_tempthroughput[0:7755])\n",
    "    normalization = np.sum(interpolate > throughput_threshold_g)\n",
    "    f2_itempg = np.sum(interpolate * relative_fluxdensity)/normalization\n",
    "    \n",
    "    gband_tempthroughput = np.zeros_like(gband_throughput)\n",
    "    gband_tempthroughput[subband_g_3] = gband_throughput[subband_g_3]\n",
    "    interpolate = np.interp(s, gband_wavelength[0:7755], gband_tempthroughput[0:7755])\n",
    "    normalization = np.sum(interpolate > throughput_threshold_g)\n",
    "    f3_itempg = np.sum(interpolate * relative_fluxdensity)/normalization"
   ]
  },
  {
   "cell_type": "code",
   "execution_count": 22,
   "metadata": {},
   "outputs": [
    {
     "data": {
      "text/plain": [
       "array([0., 0., 0., ..., 0., 0., 0.])"
      ]
     },
     "execution_count": 22,
     "metadata": {},
     "output_type": "execute_result"
    }
   ],
   "source": [
    "gband_throughput[0:7755]"
   ]
  },
  {
   "cell_type": "code",
   "execution_count": 23,
   "metadata": {},
   "outputs": [
    {
     "name": "stdout",
     "output_type": "stream",
     "text": [
      "[<Quantity [ 82.35,  82.45,  82.55, ..., 855.25, 855.35, 855.45] nm>, <Quantity [ 164.7,  164.9,  165.1, ..., 1710.5, 1710.7, 1710.9] nm>, <Quantity [ 205.875,  206.125,  206.375, ..., 2138.125, 2138.375, 2138.625] nm>, <Quantity [ 247.05,  247.35,  247.65, ..., 2565.75, 2566.05, 2566.35] nm>, <Quantity [ 288.225,  288.575,  288.925, ..., 2993.375, 2993.725, 2994.075] nm>]\n",
      "<Quantity [ 300. ,  300.1,  300.2, ..., 1075.2, 1075.3, 1075.4] nm>\n",
      "array([0., 0., 0., ..., 0., 0., 0.])\n"
     ]
    },
    {
     "ename": "IndexError",
     "evalue": "boolean index did not match indexed array along dimension 0; dimension is 7755 but corresponding boolean dimension is 8501",
     "output_type": "error",
     "traceback": [
      "\u001b[0;31m---------------------------------------------------------------------------\u001b[0m",
      "\u001b[0;31mIndexError\u001b[0m                                Traceback (most recent call last)",
      "\u001b[0;32m<ipython-input-23-e9d2bc56faed>\u001b[0m in \u001b[0;36m<module>\u001b[0;34m\u001b[0m\n\u001b[1;32m      9\u001b[0m \u001b[0;34m\u001b[0m\u001b[0m\n\u001b[1;32m     10\u001b[0m     \u001b[0;31m#Fix f1, 2, 3 values to include actual spectrum\u001b[0m\u001b[0;34m\u001b[0m\u001b[0;34m\u001b[0m\u001b[0;34m\u001b[0m\u001b[0m\n\u001b[0;32m---> 11\u001b[0;31m     \u001b[0mf_values_g\u001b[0m \u001b[0;34m=\u001b[0m \u001b[0msubbandFlux\u001b[0m\u001b[0;34m(\u001b[0m\u001b[0mgband_wavelength\u001b[0m\u001b[0;34m[\u001b[0m\u001b[0;36m0\u001b[0m\u001b[0;34m:\u001b[0m\u001b[0;36m7755\u001b[0m\u001b[0;34m]\u001b[0m\u001b[0;34m,\u001b[0m \u001b[0mgband_throughput\u001b[0m\u001b[0;34m[\u001b[0m\u001b[0;36m0\u001b[0m\u001b[0;34m:\u001b[0m\u001b[0;36m7755\u001b[0m\u001b[0;34m]\u001b[0m\u001b[0;34m,\u001b[0m \u001b[0mg_subbands\u001b[0m\u001b[0;34m,\u001b[0m \u001b[0mthroughput_threshold_g\u001b[0m\u001b[0;34m,\u001b[0m \u001b[0mspectra_obs\u001b[0m\u001b[0;34m)\u001b[0m\u001b[0;34m\u001b[0m\u001b[0;34m\u001b[0m\u001b[0m\n\u001b[0m\u001b[1;32m     12\u001b[0m \u001b[0;34m\u001b[0m\u001b[0m\n\u001b[1;32m     13\u001b[0m     \u001b[0;32mfor\u001b[0m \u001b[0mi\u001b[0m\u001b[0;34m,\u001b[0m \u001b[0mg\u001b[0m\u001b[0;34m,\u001b[0m \u001b[0mf\u001b[0m \u001b[0;32min\u001b[0m \u001b[0menumerate\u001b[0m\u001b[0;34m(\u001b[0m\u001b[0mzip\u001b[0m\u001b[0;34m(\u001b[0m\u001b[0mg_effectives\u001b[0m\u001b[0;34m,\u001b[0m \u001b[0mf_values_g\u001b[0m\u001b[0;34m)\u001b[0m\u001b[0;34m)\u001b[0m\u001b[0;34m:\u001b[0m\u001b[0;34m\u001b[0m\u001b[0;34m\u001b[0m\u001b[0m\n",
      "\u001b[0;32m<ipython-input-21-05f803c9208e>\u001b[0m in \u001b[0;36msubbandFlux\u001b[0;34m(wavelength, band_throughput, subbands, throughput_threshold, spectra_obs)\u001b[0m\n\u001b[1;32m     12\u001b[0m         \u001b[0mprint\u001b[0m\u001b[0;34m(\u001b[0m\u001b[0mrepr\u001b[0m\u001b[0;34m(\u001b[0m\u001b[0mwavelength\u001b[0m\u001b[0;34m)\u001b[0m\u001b[0;34m)\u001b[0m\u001b[0;34m\u001b[0m\u001b[0;34m\u001b[0m\u001b[0m\n\u001b[1;32m     13\u001b[0m         \u001b[0mprint\u001b[0m\u001b[0;34m(\u001b[0m\u001b[0mrepr\u001b[0m\u001b[0;34m(\u001b[0m\u001b[0mband_throughput\u001b[0m\u001b[0;34m)\u001b[0m\u001b[0;34m)\u001b[0m\u001b[0;34m\u001b[0m\u001b[0;34m\u001b[0m\u001b[0m\n\u001b[0;32m---> 14\u001b[0;31m         \u001b[0mprint\u001b[0m\u001b[0;34m(\u001b[0m\u001b[0mrepr\u001b[0m\u001b[0;34m(\u001b[0m\u001b[0mband_throughput\u001b[0m\u001b[0;34m[\u001b[0m\u001b[0ms\u001b[0m\u001b[0;34m]\u001b[0m\u001b[0;34m)\u001b[0m\u001b[0;34m)\u001b[0m\u001b[0;34m\u001b[0m\u001b[0;34m\u001b[0m\u001b[0m\n\u001b[0m\u001b[1;32m     15\u001b[0m         \u001b[0mprint\u001b[0m\u001b[0;34m(\u001b[0m\u001b[0mrepr\u001b[0m\u001b[0;34m(\u001b[0m\u001b[0ms\u001b[0m\u001b[0;34m)\u001b[0m\u001b[0;34m)\u001b[0m\u001b[0;34m\u001b[0m\u001b[0;34m\u001b[0m\u001b[0m\n\u001b[1;32m     16\u001b[0m         \u001b[0minterpolate\u001b[0m \u001b[0;34m=\u001b[0m \u001b[0mnp\u001b[0m\u001b[0;34m.\u001b[0m\u001b[0minterp\u001b[0m\u001b[0;34m(\u001b[0m\u001b[0mspectra_obs\u001b[0m\u001b[0;34m,\u001b[0m \u001b[0mwavelength\u001b[0m\u001b[0;34m,\u001b[0m \u001b[0mband_throughput\u001b[0m\u001b[0;34m[\u001b[0m\u001b[0ms\u001b[0m\u001b[0;34m]\u001b[0m\u001b[0;34m)\u001b[0m\u001b[0;34m\u001b[0m\u001b[0;34m\u001b[0m\u001b[0m\n",
      "\u001b[0;31mIndexError\u001b[0m: boolean index did not match indexed array along dimension 0; dimension is 7755 but corresponding boolean dimension is 8501"
     ]
    },
    {
     "data": {
      "image/png": "[encoded data removed]",
      "text/plain": [
       "<Figure size 1728x576 with 1 Axes>"
      ]
     },
     "metadata": {},
     "output_type": "display_data"
    }
   ],
   "source": [
    "g_effectives = [g1_effective, g2_effective, g3_effective]\n",
    "\n",
    "# G-Band Plots\n",
    "plt.style.use('ggplot')\n",
    "for z, s in zip(redshifts, spectra_obs):\n",
    "    fig, ax = plt.subplots (1, 1, figsize = (24,8))\n",
    "    interpolate = np.interp(s, gband_wavelength[0:7755], gband_throughput[0:7755])\n",
    "    plt.plot(s, relative_fluxdensity * interpolate, label = 'Redshift z = {}'.format(z), color = 'b')\n",
    "    \n",
    "    #Fix f1, 2, 3 values to include actual spectrum\n",
    "    f_values_g = subbandFlux(gband_wavelength[0:7755], gband_throughput[0:7755], g_subbands, throughput_threshold_g, spectra_obs)\n",
    "    \n",
    "    for i, g, f in enumerate(zip(g_effectives, f_values_g)):\n",
    "        ax.plot(g, f, label = f'total flux for sub-band {i}', marker='+', color = 'r', markersize =16)\n",
    "    \n",
    "    #ax.plot(g1_effective, f1_itempg, label = 'total flux for sub-band 1', marker='+', color = 'r', markersize = 16)\n",
    "    #ax.plot(g2_effective, f2_itempg, label = 'total flux for sub-band 2', marker='+', color = 'r', markersize = 16)\n",
    "    #ax.plot(g3_effective, f3_itempg, label = 'total flux for sub-band 3', marker='+', color = 'r', markersize = 16)\n",
    "    \n",
    "    plt.xlabel('Wavelength (nm)')\n",
    "    plt.ylabel('Flux')\n",
    "    plt.title('G-Band: Wavelength vs. Flux for z = {}'.format(z))\n",
    "    plt.xlim(350, 600)\n",
    "    plt.legend(loc = 0, shadow = True);"
   ]
  },
  {
   "cell_type": "code",
   "execution_count": null,
   "metadata": {},
   "outputs": [],
   "source": [
    "# I-Band Plots\n",
    "for z, s in zip(redshifts, spectra_obs):\n",
    "    fig, ax = plt.subplots (1, 1, figsize = (24,8))\n",
    "    interpolate = np.interp(s, iband_wavelength[0:7755], iband_throughput[0:7755])\n",
    "    plt.plot(s, (relative_fluxdensity * interpolate), label = 'Redshift z = {}'.format(z), color = 'b')\n",
    "    \n",
    "    #Fix f1, 2, 3 values to include actual spectrum\n",
    "    iband_tempthroughput = np.zeros_like(iband_throughput)\n",
    "    iband_tempthroughput[subband_i_1] = iband_throughput[subband_i_1]\n",
    "    interpolate = np.interp(s, iband_wavelength[0:7755], iband_tempthroughput[0:7755])\n",
    "    normalization = np.sum(interpolate > throughput_threshold_i)\n",
    "    f1_itemp = np.sum(interpolate * relative_fluxdensity)/normalization\n",
    "    \n",
    "    iband_tempthroughput = np.zeros_like(iband_throughput)\n",
    "    iband_tempthroughput[subband_i_2] = iband_throughput[subband_i_2]\n",
    "    interpolate = np.interp(s, iband_wavelength[0:7755], iband_tempthroughput[0:7755])\n",
    "    normalization = np.sum(interpolate > throughput_threshold_i)\n",
    "    f2_itemp = np.sum(interpolate * relative_fluxdensity)/normalization\n",
    "    \n",
    "    iband_tempthroughput = np.zeros_like(iband_throughput)\n",
    "    iband_tempthroughput[subband_i_3] = iband_throughput[subband_i_3]\n",
    "    interpolate = np.interp(s, iband_wavelength[0:7755], iband_tempthroughput[0:7755])\n",
    "    normalization = np.sum(interpolate > throughput_threshold_i)\n",
    "    f3_itemp = np.sum(interpolate * relative_fluxdensity)/normalization\n",
    "    \n",
    "    ax.plot(i1_effective, f1_itemp, label = 'total flux for sub-band 1', marker='+', color = 'r', markersize =16)\n",
    "    ax.plot(i2_effective, f2_itemp, label = 'total flux for sub-band 2', marker='+', color = 'r', markersize =16)\n",
    "    ax.plot(i3_effective, f3_itemp, label = 'total flux for sub-band 3', marker='+', color = 'r', markersize =16)\n",
    "    \n",
    "    plt.xlabel('Wavelength (nm)')\n",
    "    plt.ylabel('Flux')\n",
    "    plt.title('I-Band: Wavelength vs. Flux for z = {}'.format(z))\n",
    "    plt.xlim(670, 840)\n",
    "    plt.legend(loc = 0, shadow = True);"
   ]
  },
  {
   "cell_type": "markdown",
   "metadata": {},
   "source": [
    "### Part 1b: Calculate the DCR shifts\n",
    "\n",
    "For each sub-band (of both g- and i-bands), calculate the DCR shift using the effective wavelength of the sub-band with the effective wavelength of the full band as the reference. Report the results in pixels, using the same 0.26 arcseconds/pixel plate scale you used in assignment 2."
   ]
  },
  {
   "cell_type": "code",
   "execution_count": null,
   "metadata": {},
   "outputs": [],
   "source": [
    "# define p_s, etc. inside function (don't pull in from above)\n",
    "\n",
    "def DCRshift(subband_effWavelength, effectiveWavelength):\n",
    "    grefraction_subband = atm_refraction(subband_effWavelength, p_s, temperature, p_w, latitude, altitude, zin)\n",
    "    grefraction_effective = atm_refraction(effectiveWavelength, p_s, temperature, p_w, latitude, altitude, zin)\n",
    "    g_difference =  (grefraction_subband - grefraction_effective) * rad2arcsec /0.26 # in pixels\n",
    "    \n",
    "    return g_difference.value\n",
    "\n",
    "def difference(band_wavelength, band_throughput, subband, subband_number=3):\n",
    "    overall_effective_wavelength = subband_wavelengths(band_wavelength, band_throughput, subband_number=1)\n",
    "    subband_effective_wavelengths = subband_wavelengths(band_wavelength, band_throughput, subband_number=3)\n",
    "    wavelengths = [wl.value for wl in subband_effective_wavelengths]\n",
    "    \n",
    "    difference = DCRshift(subband_effective_wavelengths[subband], overall_effective_wavelength[0])\n",
    "    return difference\n",
    "\n"
   ]
  },
  {
   "cell_type": "code",
   "execution_count": null,
   "metadata": {},
   "outputs": [],
   "source": [
    "def plot_subbands(band_wavelength, band_throughput, label_name, subband_number=3):\n",
    "    \n",
    "    overall_effective_wavelength = subband_wavelengths(band_wavelength, band_throughput, subband_number=1)\n",
    "    subband_effective_wavelengths = subband_wavelengths(band_wavelength, band_throughput, subband_number=3)\n",
    "    wavelengths = [wl.value for wl in subband_effective_wavelengths]\n",
    "    \n",
    "    differences = [DCRshift(subband,overall_effective_wavelength[0]) for subband in subband_effective_wavelengths]\n",
    "    \n",
    "    fig, ax = plt.subplots(1, 1, figsize = (24, 10))\n",
    "    plt.plot(wavelengths, differences, label = label_name, color = 'b', marker='+', markersize = 14) #label = 'g-band', color = 'b', marker='+')\n",
    "    ax.set_title('Refraction Difference (pixels) vs. Wavelength (nm)', color = 'k', fontsize = 16)\n",
    "    ax.set_xlabel('Wavelength (nm)', fontstyle = 'italic', color = 'k', fontsize = 16)\n",
    "    ax.set_ylabel('Refraction Difference (pixels)', fontstyle = 'italic', color = 'k', fontsize = 16);\n",
    "\n",
    "    ax.legend(loc = 0, shadow = True);"
   ]
  },
  {
   "cell_type": "code",
   "execution_count": null,
   "metadata": {},
   "outputs": [],
   "source": [
    "plot_subbands(gband_wavelength, gband_throughput, 'g-band')"
   ]
  },
  {
   "cell_type": "code",
   "execution_count": null,
   "metadata": {},
   "outputs": [],
   "source": [
    "# I-Subband\n",
    "\n",
    "plot_subbands(iband_wavelength, iband_throughput, 'i-band')"
   ]
  },
  {
   "cell_type": "markdown",
   "metadata": {},
   "source": [
    "### Part 1c: Fit a model\n",
    "\n",
    "Take the simulated quasar image from assignment 2, 2a and find the best fit to this image using three sub-bands. To do this, model each sub-band as a 2D gaussian, shifted by the amounts you calculated in 1b above. The free parameters are the flux values of each sub-band image (so, a total of three numbers). There are many different ways you could do this fit, so pick one that makes sense to you and we can discuss the benefits and drawbacks of different methods at our meeting."
   ]
  },
  {
   "cell_type": "code",
   "execution_count": null,
   "metadata": {},
   "outputs": [],
   "source": [
    "import lmfit\n",
    "from lmfit.lineshapes import gaussian2d\n",
    "\n",
    "def modelFunction():\n",
    "    \n",
    "    model = lmfit.models.gaussian2d()\n",
    "    params = model.guess(z, x, y)\n",
    "    result = model.fit(z, x=x, y=y, params=params) #weights=)\n",
    "    lmfit.report_fit(result)\n",
    "    result.plot()"
   ]
  },
  {
   "cell_type": "code",
   "execution_count": null,
   "metadata": {},
   "outputs": [],
   "source": [
    "fwhm_conversion = 2 * np.sqrt(2 * np.log(2))\n",
    "\n",
    "# Creating 2D Gaussian Functions\n",
    "def gaussianFunction(x_dimension = 32, y_dimension = 32, xcenter = 16, ycenter = 16, sigmax = (0.8/0.26)/fwhm_conversion, sigmay = (0.8/0.26)/fwhm_conversion):\n",
    "    x = np.linspace(0, x_dimension-1, x_dimension)\n",
    "    y = np.linspace(0, y_dimension-1, y_dimension)\n",
    "    x, y = np.meshgrid(x, y)\n",
    "    \n",
    "    diffx = x - xcenter\n",
    "    diffy = y - ycenter\n",
    "    gaussian = np.exp(-((diffx**2/(2*sigmax**2))+(diffy**2/(2*sigmay**2))))\n",
    "    \n",
    "    return gaussian\n",
    "\n",
    "# Defining X, Y & Gaussian Values\n",
    "gaussian_2d = gaussianFunction()\n",
    "\n",
    "# Plot of Gaussian Distribution\n",
    "plt.style.use('ggplot')\n",
    "fig, ax = plt.subplots(1, 1, figsize = (8, 24))\n",
    "ax.imshow(gaussian_2d)\n",
    "ax.set_title('2D Gaussian Distribution');"
   ]
  },
  {
   "cell_type": "code",
   "execution_count": null,
   "metadata": {},
   "outputs": [],
   "source": [
    "def offset_2dgaussian(fwhm, flux, xoffset, yoffset):\n",
    "    \n",
    "    sigma = fwhm / 0.26/fwhm_conversion\n",
    "    gaussian = gaussianFunction(x_dimension=32, y_dimension=32, xcenter=16, ycenter=16+yoffset, sigmax=sigma, sigmay=sigma)\n",
    "    gaussian /= np.sum(gaussian)\n",
    "    \n",
    "    return gaussian*flux "
   ]
  },
  {
   "cell_type": "code",
   "execution_count": null,
   "metadata": {},
   "outputs": [],
   "source": [
    "def totalImage(band_wavelength, band_throughput, observed_spectra, relative_fluxdensity, WeightedWavelength, p_s, temperature, p_w, latitude, altitude, zin, fwhm, xcenter, ycenter):\n",
    "    image_comp = np.zeros((32, 32), ) # float by default\n",
    "    refractionindex_eff = atm_refraction(WeightedWavelength, p_s, temperature, p_w, latitude, altitude, zin)\n",
    "    yoffset_value = []\n",
    "    \n",
    "    fmin = max(band_throughput)*.01\n",
    "    w_use = []\n",
    "    for w,f in zip(band_wavelength, band_throughput):\n",
    "        if f < fmin:\n",
    "            continue\n",
    "        w_use.append(w.value)\n",
    "        \n",
    "        # calculate flux - 2a\n",
    "        interpolate = np.interp(w, observed_spectra, relative_fluxdensity)\n",
    "        flux = f * interpolate\n",
    "        \n",
    "        # dcr shift - 3b\n",
    "        refraction = atm_refraction(w, p_s, temperature, p_w, latitude, altitude, zin)\n",
    "        yoffset = (refraction - refractionindex_eff)* rad2arcsec.value / 0.26\n",
    "        yoffset_value.append(yoffset)\n",
    "        xoffset = 0 / 0.26 # shift purely in the y-direction\n",
    "        \n",
    "        # creating gaussian\n",
    "        newgaussian = offset_2dgaussian(fwhm, flux, xoffset, yoffset)\n",
    "        image_comp += newgaussian.value\n",
    "\n",
    "    fig, ax = plt.subplots(1, 1, figsize = (6, 6))\n",
    "    im = ax.imshow(image_comp)\n",
    "    fig.colorbar(im, orientation = 'vertical')\n",
    "    ax.set_title('2D Offset Gaussian Distribution');  \n",
    "    \n",
    "    return w_use, yoffset_value, image_comp"
   ]
  },
  {
   "cell_type": "code",
   "execution_count": null,
   "metadata": {},
   "outputs": [],
   "source": [
    "# G-Band Image\n",
    "g_wls, gimage, gdistribution = totalImage(gband_wavelength, gband_throughput, spectra_obs[4], relative_fluxdensity, gWeightedWavelength, p_s, temperature, p_w, latitude, altitude, zin, 0.8, 16, 16)\n",
    "\n"
   ]
  },
  {
   "cell_type": "code",
   "execution_count": null,
   "metadata": {},
   "outputs": [],
   "source": [
    "# 3-subband gaussian images\n",
    "\n",
    "# Gaussian Subband 1\n",
    "gaussian_g1_shift = offset_2dgaussian(0.8, 1, 0, difference(gband_wavelength, gband_throughput, 0))\n",
    "g1_mean = np.mean(gaussian_g1_shift)\n",
    "print(\"Gaussian Subband 1 Mean: {}\".format(g1_mean))\n",
    "fig, ax = plt.subplots(1, 1, figsize = (6, 6))\n",
    "g1shift = ax.imshow(gaussian_g1_shift);\n",
    "fig.colorbar(g1shift, orientation = 'vertical')\n",
    "ax.set_title('Gaussian Subband 1 Distribution')\n",
    "\n",
    "# Gaussian Subband 2\n",
    "gaussian_g2_shift = offset_2dgaussian(0.8, 1, 0, difference(gband_wavelength, gband_throughput, 1))\n",
    "g2_mean = np.mean(gaussian_g2_shift)\n",
    "print(\"Gaussian Subband 2 Mean: {}\".format(g2_mean))\n",
    "fig, ax = plt.subplots(1, 1, figsize = (6, 6))\n",
    "g2shift = ax.imshow(gaussian_g2_shift);\n",
    "fig.colorbar(g2shift, orientation = 'vertical')\n",
    "ax.set_title('Gaussian Subband 2 Distribution')\n",
    "\n",
    "# Gaussian Subband 3\n",
    "gaussian_g3_shift = offset_2dgaussian(0.8, 1, 0, difference(gband_wavelength, gband_throughput, 2))\n",
    "g3_mean = np.mean(gaussian_g3_shift)\n",
    "print(\"Gaussian Subband 3 Mean: {}\".format(g3_mean))\n",
    "fig, ax = plt.subplots(1, 1, figsize = (6, 6))\n",
    "g3shift = ax.imshow(gaussian_g3_shift);\n",
    "fig.colorbar(g3shift, orientation = 'vertical');\n",
    "ax.set_title('Gaussian Subband 3 Distribution');"
   ]
  },
  {
   "cell_type": "code",
   "execution_count": null,
   "metadata": {},
   "outputs": [],
   "source": [
    "# Calibrated Amplitude\n",
    "totalmean = np.mean(gdistribution)"
   ]
  },
  {
   "cell_type": "code",
   "execution_count": null,
   "metadata": {},
   "outputs": [],
   "source": [
    "# Differences\n",
    "\n",
    "total_correctedmean = gdistribution * (g1_mean/totalmean) * 3\n",
    "\n",
    "gdiff1 = total_correctedmean - gaussian_g2_shift - gaussian_g3_shift\n",
    "gdiff2 = total_correctedmean - gaussian_g1_shift - gaussian_g3_shift\n",
    "gdiff3 = total_correctedmean - gaussian_g1_shift - gaussian_g2_shift\n",
    "\n",
    "fig, ax = plt.subplots(1, 1, figsize = (6, 6))\n",
    "totalimage_corrected = ax.imshow(total_correctedmean)\n",
    "fig.colorbar(totalimage_corrected, orientation = 'vertical')\n",
    "ax.set_title('Total Gaussian Distribution \\n - Corrected Mean')\n",
    "\n",
    "fig, ax = plt.subplots(1, 1, figsize = (6, 6))\n",
    "gaussian_subband1 = ax.imshow(gdiff1)\n",
    "fig.colorbar(gaussian_subband1, orientation = 'vertical');\n",
    "ax.set_title('Gaussian Subband 1 Distribution \\n (Difference)');\n",
    "\n",
    "fig, ax = plt.subplots(1, 1, figsize = (6, 6))\n",
    "gaussian_subband2 = ax.imshow(gdiff2)\n",
    "fig.colorbar(gaussian_subband2, orientation = 'vertical');\n",
    "ax.set_title('Gaussian Subband 2 Distribution \\n (Difference)');\n",
    "\n",
    "fig, ax = plt.subplots(1, 1, figsize = (6, 6))\n",
    "gaussian_subband3 = ax.imshow(gdiff3)\n",
    "fig.colorbar(gaussian_subband3, orientation = 'vertical');\n",
    "ax.set_title('Gaussian Subband 3 Distribution \\n (Difference)');"
   ]
  },
  {
   "cell_type": "code",
   "execution_count": null,
   "metadata": {},
   "outputs": [],
   "source": [
    "# Creating Mesh Grid for Gaussian Fit\n",
    "x, y = gdiff1.shape\n",
    "xmesh, ymesh = np.meshgrid(np.linspace(0, x-1, x), np.linspace(0, y-1, y))"
   ]
  },
  {
   "cell_type": "code",
   "execution_count": null,
   "metadata": {},
   "outputs": [],
   "source": [
    "# Gaussian Fit Function\n",
    "\n",
    "def gaussianfit(z, subband):\n",
    "    x, y = z.shape\n",
    "    xmesh, ymesh = np.meshgrid(np.linspace(0, x-1, x), np.linspace(0, y-1, y))\n",
    "    \n",
    "    zflat = z.flatten()\n",
    "    xflat = xmesh.flatten()\n",
    "    yflat = ymesh.flatten()\n",
    "    print(len(zflat), len(yflat), len(xflat))\n",
    "    \n",
    "    model = lmfit.models.Gaussian2dModel()\n",
    "    params = model.guess(zflat, xflat, yflat)\n",
    "    result = model.fit(zflat, x=xflat, y=yflat, params=params)\n",
    "    lmfit.report_fit(result)\n",
    "    \n",
    "    fig, ax = plt.subplots(1, 1, figsize = (6, 6))\n",
    "    fit = model.func(xmesh, ymesh, **result.best_values)\n",
    "    gaussian_fittedimage = ax.imshow(fit)\n",
    "    fig.colorbar(gaussian_fittedimage, orientation = 'vertical');\n",
    "    ax.set_title(\"Gaussian Subband {} Distribution \\n (Fit)\".format(subband));\n",
    "    \n",
    "    return result"
   ]
  },
  {
   "cell_type": "code",
   "execution_count": null,
   "metadata": {
    "scrolled": false
   },
   "outputs": [],
   "source": [
    "# Gaussian Fit Subband 1\n",
    "\n",
    "fit1 = gaussianfit(gdiff1, \"1\")\n",
    "fit2 = gaussianfit(gdiff2, \"2\")\n",
    "fit3 = gaussianfit(gdiff3, \"3\")"
   ]
  },
  {
   "cell_type": "code",
   "execution_count": null,
   "metadata": {},
   "outputs": [],
   "source": [
    "# Checking Fit Parameters - fit1?\n",
    "fit1.params"
   ]
  },
  {
   "cell_type": "code",
   "execution_count": null,
   "metadata": {},
   "outputs": [],
   "source": [
    "# Fit amplitude parameters\n",
    "f1_amp = fit1.params[\"amplitude\"] \n",
    "f2_amp = fit2.params[\"amplitude\"]\n",
    "f3_amp = fit3.params[\"amplitude\"]"
   ]
  },
  {
   "cell_type": "markdown",
   "metadata": {},
   "source": [
    "### Part 1d: Plot the measurements\n",
    "\n",
    "Take the flux measurements from 1c, and plot them (with different symbols) on top of the plots from 1a above. As you did with the theoretical sub-band fluxes in 1a, normalize the y-axis so that the sub-band measurements, the theoretical sub-band fluxes, and the high-resolution spectra are comparable. It is probably cleanest if you duplicate the plots from 1a."
   ]
  },
  {
   "cell_type": "code",
   "execution_count": null,
   "metadata": {},
   "outputs": [],
   "source": [
    "# G-Band Plots:\n",
    "plt.style.use('ggplot')\n",
    "for z, s in zip(redshifts, spectra_obs):\n",
    "    fig, ax = plt.subplots (1, 1, figsize = (24,8))\n",
    "    interpolate = np.interp(s, gband_wavelength[0:7755], gband_throughput[0:7755])\n",
    "    plt.plot(s, relative_fluxdensity * interpolate, label = 'Redshift z = {}'.format(z), color = 'b')\n",
    "    \n",
    "    #1a: Subband Wavelength vs Flux    \n",
    "    ax.plot(g1_effective, f1_itempg, label = 'total flux for sub-band 1', marker='+', color = 'r', markersize = 16)\n",
    "    ax.plot(g2_effective, f2_itempg, label = 'total flux for sub-band 2', marker='+', color = 'r', markersize = 16)\n",
    "    ax.plot(g3_effective, f3_itempg, label = 'total flux for sub-band 3', marker='+', color = 'r', markersize = 16)\n",
    "    \n",
    "    #Fitted Flux Parameter\n",
    "    ax.plot(g1_effective, f1_amp, marker = \"*\", color = 'g', markersize = 16)\n",
    "    ax.plot(g2_effective, f2_amp, marker = \"*\", color = 'g', markersize = 16)\n",
    "    ax.plot(g3_effective, f3_amp, marker = \"*\", color = 'g', markersize = 16)\n",
    "    \n",
    "    plt.xlabel('Wavelength (nm)')\n",
    "    plt.ylabel('Flux')\n",
    "    plt.title('G-Band: Wavelength vs. Flux for z = {}'.format(z))\n",
    "    plt.xlim(350, 600)\n",
    "    plt.legend(loc = 0, shadow = True);"
   ]
  },
  {
   "cell_type": "code",
   "execution_count": null,
   "metadata": {},
   "outputs": [],
   "source": [
    "# I-Band Plots\n",
    "for z, s in zip(redshifts, spectra_obs):\n",
    "    fig, ax = plt.subplots (1, 1, figsize = (24,8))\n",
    "    interpolate = np.interp(s, iband_wavelength[0:7755], iband_throughput[0:7755])\n",
    "    plt.plot(s, relative_fluxdensity * interpolate, label = 'Redshift z = {}'.format(z), color = 'b')\n",
    "    \n",
    "    #Fix f1, 2, 3 values to include actual spectrum\n",
    "    iband_tempthroughput = np.zeros_like(iband_throughput)\n",
    "    iband_tempthroughput[subband_i_1] = iband_throughput[subband_i_1]\n",
    "    interpolate = np.interp(s, iband_wavelength[0:7755], iband_tempthroughput[0:7755])\n",
    "    normalization = np.sum(interpolate > throughput_threshold_i)\n",
    "    f1_itemp = np.sum(interpolate * relative_fluxdensity)/normalization\n",
    "    \n",
    "    iband_tempthroughput = np.zeros_like(iband_throughput)\n",
    "    iband_tempthroughput[subband_i_2] = iband_throughput[subband_i_2]\n",
    "    interpolate = np.interp(s, iband_wavelength[0:7755], iband_tempthroughput[0:7755])\n",
    "    normalization = np.sum(interpolate > throughput_threshold_i)\n",
    "    f2_itemp = np.sum(interpolate * relative_fluxdensity)/normalization\n",
    "    \n",
    "    iband_tempthroughput = np.zeros_like(iband_throughput)\n",
    "    iband_tempthroughput[subband_i_3] = iband_throughput[subband_i_3]\n",
    "    interpolate = np.interp(s, iband_wavelength[0:7755], iband_tempthroughput[0:7755])\n",
    "    normalization = np.sum(interpolate > throughput_threshold_i)\n",
    "    f3_itemp = np.sum(interpolate * relative_fluxdensity)/normalization\n",
    "    \n",
    "    #1a: Subband Wavelength vs Flux \n",
    "    ax.plot(i1_effective, f1_itemp, label = 'total flux for sub-band 1', marker='+', color = 'r', markersize =16)\n",
    "    ax.plot(i2_effective, f2_itemp, label = 'total flux for sub-band 2', marker='+', color = 'r', markersize =16)\n",
    "    ax.plot(i3_effective, f3_itemp, label = 'total flux for sub-band 3', marker='+', color = 'r', markersize =16)\n",
    "    \n",
    "    #Fitted Flux Parameter\n",
    "    ax.plot(i1_effective, f1_amp, marker = \"*\", color = 'g', markersize = 16)\n",
    "    ax.plot(i2_effective, f2_amp, marker = \"*\", color = 'g', markersize = 16)\n",
    "    ax.plot(i3_effective, f3_amp, marker = \"*\", color = 'g', markersize = 16)\n",
    "    \n",
    "    plt.xlabel('Wavelength (nm)')\n",
    "    plt.ylabel('Flux')\n",
    "    plt.title('I-Band: Wavelength vs. Flux for z = {}'.format(z))\n",
    "    plt.xlim(670, 840)\n",
    "    plt.legend(loc = 0, shadow = True);"
   ]
  },
  {
   "cell_type": "code",
   "execution_count": null,
   "metadata": {},
   "outputs": [],
   "source": []
  }
 ],
 "metadata": {
  "kernelspec": {
   "display_name": "Python 3",
   "language": "python",
   "name": "python3"
  },
  "language_info": {
   "codemirror_mode": {
    "name": "ipython",
    "version": 3
   },
   "file_extension": ".py",
   "mimetype": "text/x-python",
   "name": "python",
   "nbconvert_exporter": "python",
   "pygments_lexer": "ipython3",
   "version": "3.7.4"
  }
 },
 "nbformat": 4,
 "nbformat_minor": 2
}
